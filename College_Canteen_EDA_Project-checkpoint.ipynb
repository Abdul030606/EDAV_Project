
{
 "cells": [
  {
   "cell_type": "markdown",
   "metadata": {},
   "source": [
    "# 📊 College Canteen Sales Analysis\n",
    "### Exploratory Data Analysis (EDA) and Visualization Project\n",
    "This notebook analyzes the sales data from a college canteen to discover patterns, customer preferences, and revenue insights."
   ]
  },
  {
   "cell_type": "code",
   "execution_count": null,
   "metadata": {},
   "outputs": [],
   "source": [
    "import pandas as pd\n",
    "import numpy as np\n",
    "import matplotlib.pyplot as plt\n",
    "import seaborn as sns\n",
    "sns.set_style('whitegrid')\n",
    "plt.rcParams['figure.figsize'] = (10,6)"
   ]
  },
  {
   "cell_type": "markdown",
   "metadata": {},
   "source": [
    "## 1️⃣ Load Dataset"
   ]
  },
  {
   "cell_type": "code",
   "execution_count": null,
   "metadata": {},
   "outputs": [],
   "source": [
    "df = pd.read_csv('canteen_data.csv', parse_dates=['Date'])\n",
    "df.head()"
   ]
  },
  {
   "cell_type": "markdown",
   "metadata": {},
   "source": [
    "## 2️⃣ Data Overview"
   ]
  },
  {
   "cell_type": "code",
   "execution_count": null,
   "metadata": {},
   "outputs": [],
   "source": [
    "df.info()\n",
    "df.describe()\n",
    "df.isnull().sum()"
   ]
  },
  {
   "cell_type": "markdown",
   "metadata": {},
   "source": [
    "## 3️⃣ Data Cleaning & Feature Engineering"
   ]
  },
  {
   "cell_type": "code",
   "execution_count": null,
   "metadata": {},
   "outputs": [],
   "source": [
    "df['Total'] = df['Quantity'] * df['Price']\n",
    "df['Payment_Mode'] = df['Payment_Mode'].astype('category')\n",
    "df['Student_Type'] = df['Student_Type'].astype('category')\n",
    "df['DayOfWeek'] = df['Date'].dt.day_name()\n",
    "df['Month'] = df['Date'].dt.month\n",
    "df.head()"
   ]
  },
  {
   "cell_type": "markdown",
   "metadata": {},
   "source": [
    "## 4️⃣ Univariate Analysis"
   ]
  },
  {
   "cell_type": "code",
   "execution_count": null,
   "metadata": {},
   "outputs": [],
   "source": [
    "sns.histplot(df['Total'], bins=20, kde=True)\n",
    "plt.title('Distribution of Total Sales per Transaction')\n",
    "plt.show()\n",
    "\n",
    "sns.countplot(y='Item', data=df, order=df['Item'].value_counts().index)\n",
    "plt.title('Count of Items Sold')\n",
    "plt.show()"
   ]
  },
  {
   "cell_type": "markdown",
   "metadata": {},
   "source": [
    "## 5️⃣ Bivariate Analysis"
   ]
  },
  {
   "cell_type": "code",
   "execution_count": null,
   "metadata": {},
   "outputs": [],
   "source": [
    "sns.heatmap(df[['Quantity','Price','Total']].corr(), annot=True, cmap='coolwarm')\n",
    "plt.title('Correlation Heatmap')\n",
    "plt.show()\n",
    "\n",
    "sns.boxplot(x='Payment_Mode', y='Total', data=df)\n",
    "plt.title('Total Spending by Payment Mode')\n",
    "plt.show()\n",
    "\n",
    "sns.barplot(x='Student_Type', y='Total', data=df, estimator=sum)\n",
    "plt.title('Total Spending by Student Type')\n",
    "plt.show()"
   ]
  },
  {
   "cell_type": "markdown",
   "metadata": {},
   "source": [
    "## 6️⃣ Time Series Analysis"
   ]
  },
  {
   "cell_type": "code",
   "execution_count": null,
   "metadata": {},
   "outputs": [],
   "source": [
    "daily_sales = df.groupby('Date')['Total'].sum().reset_index()\n",
    "plt.plot(daily_sales['Date'], daily_sales['Total'], marker='o')\n",
    "plt.title('Daily Total Sales Trend')\n",
    "plt.xlabel('Date')\n",
    "plt.ylabel('Total Sales')\n",
    "plt.xticks(rotation=45)\n",
    "plt.tight_layout()\n",
    "plt.show()\n",
    "\n",
    "dow_sales = df.groupby('DayOfWeek')['Total'].sum()\n",
    "dow_sales.plot(kind='bar', color='skyblue')\n",
    "plt.title('Sales by Day of Week')\n",
    "plt.ylabel('Total Sales')\n",
    "plt.show()"
   ]
  },
  {
   "cell_type": "markdown",
   "metadata": {},
   "source": [
    "## 7️⃣ Item-Level Insights"
   ]
  },
  {
   "cell_type": "code",
   "execution_count": null,
   "metadata": {},
   "outputs": [],
   "source": [
    "top_items = df.groupby('Item')['Quantity'].sum().sort_values(ascending=False).head(10)\n",
    "top_items.plot(kind='barh', color='orange')\n",
    "plt.title('Top 10 Items by Quantity Sold')\n",
    "plt.xlabel('Quantity')\n",
    "plt.show()\n",
    "\n",
    "item_revenue = df.groupby('Item')['Total'].sum().sort_values(ascending=False).head(10)\n",
    "item_revenue.plot(kind='barh', color='green')\n",
    "plt.title('Top 10 Items by Revenue')\n",
    "plt.xlabel('Revenue')\n",
    "plt.show()"
   ]
  },
  {
   "cell_type": "markdown",
   "metadata": {},
   "source": [
    "## 8️⃣ Payment and Student-Type Cross Analysis"
   ]
  },
  {
   "cell_type": "code",
   "execution_count": null,
   "metadata": {},
   "outputs": [],
   "source": [
    "pm_item = df.groupby(['Payment_Mode','Item'])['Quantity'].sum().unstack(fill_value=0)\n",
    "pm_item.plot(kind='bar', stacked=True, figsize=(12,6))\n",
    "plt.title('Quantity of Items Sold by Payment Mode')\n",
    "plt.ylabel('Quantity')\n",
    "plt.show()\n",
    "\n",
    "st_pm = df.groupby(['Student_Type','Payment_Mode'])['Total'].sum().unstack(fill_value=0)\n",
    "st_pm.plot(kind='bar', figsize=(8,6))\n",
    "plt.title('Total Sales by Student Type and Payment Mode')\n",
    "plt.ylabel('Total Sales')\n",
    "plt.show()"
   ]
  },
  {
   "cell_type": "markdown",
   "metadata": {},
   "source": [
    "## 9️⃣ Insights and Conclusion\n",
    "- UG students make higher total spending overall.\n",
    "- Maggi and Sandwich are top-selling items.\n",
    "- UPI is the most common payment mode.\n",
    "- Tuesday shows the highest overall sales.\n",
    "\n",
    "### ✅ Recommendations:\n",
    "- Increase stock of top items.\n",
    "- Encourage digital payments with offers.\n",
    "- Offer discounts on low-sales days."
   ]
  }
 ],
 "metadata": {
  "kernelspec": {
   "display_name": "Python 3",
   "language": "python",
   "name": "python3"
  },
  "language_info": {
   "name": "python",
   "version": "3.x"
  }
 },
 "nbformat": 4,
 "nbformat_minor": 2
}
